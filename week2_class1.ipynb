{
  "nbformat": 4,
  "nbformat_minor": 0,
  "metadata": {
    "colab": {
      "provenance": [],
      "gpuType": "T4",
      "authorship_tag": "ABX9TyPAwOwb4eC6XxROrlNYmVxe",
      "include_colab_link": true
    },
    "kernelspec": {
      "name": "python3",
      "display_name": "Python 3"
    },
    "language_info": {
      "name": "python"
    },
    "accelerator": "GPU"
  },
  "cells": [
    {
      "cell_type": "markdown",
      "metadata": {
        "id": "view-in-github",
        "colab_type": "text"
      },
      "source": [
        "<a href=\"https://colab.research.google.com/github/junaidurrehmankhan/PGD_DSAI_Class_1/blob/main/week2_class1.ipynb\" target=\"_parent\"><img src=\"https://colab.research.google.com/assets/colab-badge.svg\" alt=\"Open In Colab\"/></a>"
      ]
    },
    {
      "cell_type": "code",
      "execution_count": 2,
      "metadata": {
        "colab": {
          "base_uri": "https://localhost:8080/"
        },
        "id": "JECtr60W9pxj",
        "outputId": "2929c0d5-8031-4fca-dd66-ffde3cf3e3e1"
      },
      "outputs": [
        {
          "output_type": "stream",
          "name": "stdout",
          "text": [
            "enter no1:3\n",
            "enter no2:4\n",
            "<class 'int'> <class 'int'>\n",
            "7\n"
          ]
        }
      ],
      "source": [
        "a=input(\"enter no1:\")\n",
        "b=input (\"enter no2:\")\n",
        "a= int (a)\n",
        "b=int(b)\n",
        "print (type(a), type(b))\n",
        "print(a+b)"
      ]
    },
    {
      "cell_type": "code",
      "source": [
        "a=input(\"enter no1:\")\n",
        "b=input (\"enter no2:\")\n",
        "print (type(a), type(b))\n",
        "print(a+b)"
      ],
      "metadata": {
        "colab": {
          "base_uri": "https://localhost:8080/"
        },
        "id": "sKYafCyQ-F2c",
        "outputId": "fa052a23-294f-4e46-d713-993bd1176bbc"
      },
      "execution_count": 3,
      "outputs": [
        {
          "output_type": "stream",
          "name": "stdout",
          "text": [
            "enter no1:4\n",
            "enter no2:5\n",
            "<class 'str'> <class 'str'>\n",
            "45\n"
          ]
        }
      ]
    },
    {
      "cell_type": "code",
      "source": [
        "a=int(input(\"enter no1:\"))\n",
        "b=int(input (\"enter no2:\"))\n",
        "print (type(a), type(b))\n",
        "print(a+b)"
      ],
      "metadata": {
        "colab": {
          "base_uri": "https://localhost:8080/"
        },
        "id": "UbfWSbVX-SYD",
        "outputId": "eb3c01b9-5889-49ff-ccde-ff3e1b6e875a"
      },
      "execution_count": 4,
      "outputs": [
        {
          "output_type": "stream",
          "name": "stdout",
          "text": [
            "enter no1:4\n",
            "enter no2:5\n",
            "<class 'int'> <class 'int'>\n",
            "9\n"
          ]
        }
      ]
    },
    {
      "cell_type": "code",
      "source": [
        "roll_no = 200\n",
        "name = \"Muhammad Qasim\"\n",
        "fname = \"Muhammad Aslam\"\n",
        "contact_no = \"03152968211\"\n",
        "\n",
        "card = \"NED University \\nStudent roll no:\" + str(roll_no)+\\\n",
        "\"\\nStudent Name: \" + name + \"\\nFather's Name: \" + fname +\"\\nContact no: \"+ contact_no\n",
        "rint(card)"
      ],
      "metadata": {
        "colab": {
          "base_uri": "https://localhost:8080/"
        },
        "id": "jKAymnyiBFMI",
        "outputId": "0a55828d-cd8d-4e1b-f470-75148e2a7b00"
      },
      "execution_count": 5,
      "outputs": [
        {
          "output_type": "stream",
          "name": "stdout",
          "text": [
            "NED University \n",
            "Student roll no:200\n",
            "Student Name: Muhammad Qasim\n",
            "Father's Name: Muhammad Aslam\n",
            "Contact no: 03152968211\n"
          ]
        }
      ]
    },
    {
      "cell_type": "code",
      "source": [
        "roll_no = 200\n",
        "name = \"Muhammad Qasim\"\n",
        "fname = \"Muhammad Aslam\"\n",
        "contact_no = \"03152968211\"\n",
        "\n",
        "card = \"NED universtiy /nstudent\""
      ],
      "metadata": {
        "id": "RUiwQNW1D5tE"
      },
      "execution_count": null,
      "outputs": []
    }
  ]
}